{
 "cells": [
  {
   "cell_type": "markdown",
   "metadata": {},
   "source": [
    "## Criteria"
   ]
  },
  {
   "cell_type": "markdown",
   "metadata": {},
   "source": [
    "### Entropy"
   ]
  },
  {
   "cell_type": "markdown",
   "metadata": {},
   "source": [
    "In a system with a globally conserved quantity, the resultant reduced density matrix for a subsystem is block diagonal. This block diagonal structure is due to the blocks having an exact correlation between two subsystems local quantities that are globally conserved.\n",
    "\n",
    "A specific example of 6 atoms on a Bose-Hubbard chain is shown below:\n",
    "\n",
    "![1](picture/1.png)\n",
    "\n",
    "The von Neumann entropy for the reduced density matrix $\\rho_A$ of subsystem $A$ is defined in the Schmidt basis as:\n",
    "\n",
    "$$S_{\\mathrm{vN}}=\\sum_i\\rho_{ii}\\log\\left(\\rho_{ii}\\right).$$\n",
    "\n",
    "Due to the block diagonal structure, $S_vN$ can be written as the sum of diagonalized blocks:\n",
    "\n",
    "$$\n",
    "\\begin{aligned}\n",
    "S_{\\mathrm{vN}}&=\\sum_{n=0}^N\\sum_ip_n\\rho_{ii}^{(n)}\\log\\left(p_n\\rho_{ii}^{(n)}\\right) \\\\\n",
    "&=\\sum_{n=0}^N\\sum_ip_n\\rho_{ii}^{(n)}\\left[\\log\\left(p_n\\right)+\\log\\left(\\rho_{ii}^{(n)}\\right)\\right]  \\\\\n",
    "&=\\sum_{n=0}^Np_n\\log\\left(p_n\\right)\\sum_i\\rho_{ii}^{(n)}+\\sum_{n=0}^Np_n\\sum_i\\rho_{ii}^{(n)}\\log\\left(\\rho_{ii}^{(n)}\\right) \\\\\n",
    "&=\\sum_{n=0}^Np_n\\log\\left(p_n\\right)+\\sum_{n=0}^Np_n\\sum_i\\rho_{ii}^{(n)}\\log\\left(\\rho_{ii}^{(n)}\\right) \\\\\n",
    "&=S_\\mathrm{n}+S_\\mathrm{c}.\n",
    "\\end{aligned}\n",
    "$$\n",
    "\n"
   ]
  },
  {
   "cell_type": "markdown",
   "metadata": {},
   "source": []
  },
  {
   "cell_type": "markdown",
   "metadata": {},
   "source": []
  }
 ],
 "metadata": {
  "kernelspec": {
   "display_name": "Python 3.10.12 64-bit",
   "language": "python",
   "name": "python3"
  },
  "language_info": {
   "name": "python",
   "version": "3.10.12"
  },
  "orig_nbformat": 4,
  "vscode": {
   "interpreter": {
    "hash": "916dbcbb3f70747c44a77c7bcd40155683ae19c65e1c03b4aa3499c5328201f1"
   }
  }
 },
 "nbformat": 4,
 "nbformat_minor": 2
}
